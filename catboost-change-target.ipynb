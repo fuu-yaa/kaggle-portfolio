{
 "cells": [
  {
   "cell_type": "markdown",
   "id": "04ffd770",
   "metadata": {
    "papermill": {
     "duration": 0.009779,
     "end_time": "2024-02-14T07:09:48.213562",
     "exception": false,
     "start_time": "2024-02-14T07:09:48.203783",
     "status": "completed"
    },
    "tags": []
   },
   "source": [
    "# Load Libraries"
   ]
  },
  {
   "cell_type": "code",
   "execution_count": 1,
   "id": "2b2583bc",
   "metadata": {
    "execution": {
     "iopub.execute_input": "2024-02-14T07:09:48.232763Z",
     "iopub.status.busy": "2024-02-14T07:09:48.232480Z",
     "iopub.status.idle": "2024-02-14T07:09:49.028527Z",
     "shell.execute_reply": "2024-02-14T07:09:49.027607Z"
    },
    "papermill": {
     "duration": 0.808119,
     "end_time": "2024-02-14T07:09:49.030901",
     "exception": false,
     "start_time": "2024-02-14T07:09:48.222782",
     "status": "completed"
    },
    "tags": []
   },
   "outputs": [],
   "source": [
    "import os, gc\n",
    "os.environ[\"CUDA_VISIBLE_DEVICES\"]=\"0,1\"\n",
    "import pandas as pd, numpy as np\n",
    "import matplotlib.pyplot as plt\n",
    "\n",
    "VER = 3"
   ]
  },
  {
   "cell_type": "markdown",
   "id": "5d31d6b0",
   "metadata": {
    "papermill": {
     "duration": 0.009641,
     "end_time": "2024-02-14T07:09:49.049889",
     "exception": false,
     "start_time": "2024-02-14T07:09:49.040248",
     "status": "completed"
    },
    "tags": []
   },
   "source": [
    "# Load Train Data"
   ]
  },
  {
   "cell_type": "code",
   "execution_count": 2,
   "id": "9a1fbb67",
   "metadata": {
    "_cell_guid": "b1076dfc-b9ad-4769-8c92-a6c4dae69d19",
    "_uuid": "8f2839f25d086af736a60e9eeb907d3b93b6e0e5",
    "execution": {
     "iopub.execute_input": "2024-02-14T07:09:49.069930Z",
     "iopub.status.busy": "2024-02-14T07:09:49.069090Z",
     "iopub.status.idle": "2024-02-14T07:09:49.328282Z",
     "shell.execute_reply": "2024-02-14T07:09:49.327322Z"
    },
    "papermill": {
     "duration": 0.271461,
     "end_time": "2024-02-14T07:09:49.330626",
     "exception": false,
     "start_time": "2024-02-14T07:09:49.059165",
     "status": "completed"
    },
    "tags": []
   },
   "outputs": [
    {
     "name": "stdout",
     "output_type": "stream",
     "text": [
      "Train shape: (106800, 15)\n",
      "Targets ['seizure_vote', 'lpd_vote', 'gpd_vote', 'lrda_vote', 'grda_vote', 'other_vote']\n"
     ]
    },
    {
     "data": {
      "text/html": [
       "<div>\n",
       "<style scoped>\n",
       "    .dataframe tbody tr th:only-of-type {\n",
       "        vertical-align: middle;\n",
       "    }\n",
       "\n",
       "    .dataframe tbody tr th {\n",
       "        vertical-align: top;\n",
       "    }\n",
       "\n",
       "    .dataframe thead th {\n",
       "        text-align: right;\n",
       "    }\n",
       "</style>\n",
       "<table border=\"1\" class=\"dataframe\">\n",
       "  <thead>\n",
       "    <tr style=\"text-align: right;\">\n",
       "      <th></th>\n",
       "      <th>eeg_id</th>\n",
       "      <th>eeg_sub_id</th>\n",
       "      <th>eeg_label_offset_seconds</th>\n",
       "      <th>spectrogram_id</th>\n",
       "      <th>spectrogram_sub_id</th>\n",
       "      <th>spectrogram_label_offset_seconds</th>\n",
       "      <th>label_id</th>\n",
       "      <th>patient_id</th>\n",
       "      <th>expert_consensus</th>\n",
       "      <th>seizure_vote</th>\n",
       "      <th>lpd_vote</th>\n",
       "      <th>gpd_vote</th>\n",
       "      <th>lrda_vote</th>\n",
       "      <th>grda_vote</th>\n",
       "      <th>other_vote</th>\n",
       "    </tr>\n",
       "  </thead>\n",
       "  <tbody>\n",
       "    <tr>\n",
       "      <th>0</th>\n",
       "      <td>1628180742</td>\n",
       "      <td>0</td>\n",
       "      <td>0.0</td>\n",
       "      <td>353733</td>\n",
       "      <td>0</td>\n",
       "      <td>0.0</td>\n",
       "      <td>127492639</td>\n",
       "      <td>42516</td>\n",
       "      <td>Seizure</td>\n",
       "      <td>3</td>\n",
       "      <td>0</td>\n",
       "      <td>0</td>\n",
       "      <td>0</td>\n",
       "      <td>0</td>\n",
       "      <td>0</td>\n",
       "    </tr>\n",
       "    <tr>\n",
       "      <th>1</th>\n",
       "      <td>1628180742</td>\n",
       "      <td>1</td>\n",
       "      <td>6.0</td>\n",
       "      <td>353733</td>\n",
       "      <td>1</td>\n",
       "      <td>6.0</td>\n",
       "      <td>3887563113</td>\n",
       "      <td>42516</td>\n",
       "      <td>Seizure</td>\n",
       "      <td>3</td>\n",
       "      <td>0</td>\n",
       "      <td>0</td>\n",
       "      <td>0</td>\n",
       "      <td>0</td>\n",
       "      <td>0</td>\n",
       "    </tr>\n",
       "    <tr>\n",
       "      <th>2</th>\n",
       "      <td>1628180742</td>\n",
       "      <td>2</td>\n",
       "      <td>8.0</td>\n",
       "      <td>353733</td>\n",
       "      <td>2</td>\n",
       "      <td>8.0</td>\n",
       "      <td>1142670488</td>\n",
       "      <td>42516</td>\n",
       "      <td>Seizure</td>\n",
       "      <td>3</td>\n",
       "      <td>0</td>\n",
       "      <td>0</td>\n",
       "      <td>0</td>\n",
       "      <td>0</td>\n",
       "      <td>0</td>\n",
       "    </tr>\n",
       "    <tr>\n",
       "      <th>3</th>\n",
       "      <td>1628180742</td>\n",
       "      <td>3</td>\n",
       "      <td>18.0</td>\n",
       "      <td>353733</td>\n",
       "      <td>3</td>\n",
       "      <td>18.0</td>\n",
       "      <td>2718991173</td>\n",
       "      <td>42516</td>\n",
       "      <td>Seizure</td>\n",
       "      <td>3</td>\n",
       "      <td>0</td>\n",
       "      <td>0</td>\n",
       "      <td>0</td>\n",
       "      <td>0</td>\n",
       "      <td>0</td>\n",
       "    </tr>\n",
       "    <tr>\n",
       "      <th>4</th>\n",
       "      <td>1628180742</td>\n",
       "      <td>4</td>\n",
       "      <td>24.0</td>\n",
       "      <td>353733</td>\n",
       "      <td>4</td>\n",
       "      <td>24.0</td>\n",
       "      <td>3080632009</td>\n",
       "      <td>42516</td>\n",
       "      <td>Seizure</td>\n",
       "      <td>3</td>\n",
       "      <td>0</td>\n",
       "      <td>0</td>\n",
       "      <td>0</td>\n",
       "      <td>0</td>\n",
       "      <td>0</td>\n",
       "    </tr>\n",
       "  </tbody>\n",
       "</table>\n",
       "</div>"
      ],
      "text/plain": [
       "       eeg_id  eeg_sub_id  eeg_label_offset_seconds  spectrogram_id  \\\n",
       "0  1628180742           0                       0.0          353733   \n",
       "1  1628180742           1                       6.0          353733   \n",
       "2  1628180742           2                       8.0          353733   \n",
       "3  1628180742           3                      18.0          353733   \n",
       "4  1628180742           4                      24.0          353733   \n",
       "\n",
       "   spectrogram_sub_id  spectrogram_label_offset_seconds    label_id  \\\n",
       "0                   0                               0.0   127492639   \n",
       "1                   1                               6.0  3887563113   \n",
       "2                   2                               8.0  1142670488   \n",
       "3                   3                              18.0  2718991173   \n",
       "4                   4                              24.0  3080632009   \n",
       "\n",
       "   patient_id expert_consensus  seizure_vote  lpd_vote  gpd_vote  lrda_vote  \\\n",
       "0       42516          Seizure             3         0         0          0   \n",
       "1       42516          Seizure             3         0         0          0   \n",
       "2       42516          Seizure             3         0         0          0   \n",
       "3       42516          Seizure             3         0         0          0   \n",
       "4       42516          Seizure             3         0         0          0   \n",
       "\n",
       "   grda_vote  other_vote  \n",
       "0          0           0  \n",
       "1          0           0  \n",
       "2          0           0  \n",
       "3          0           0  \n",
       "4          0           0  "
      ]
     },
     "execution_count": 2,
     "metadata": {},
     "output_type": "execute_result"
    }
   ],
   "source": [
    "df = pd.read_csv('/kaggle/input/hms-harmful-brain-activity-classification/train.csv')\n",
    "TARGETS = df.columns[-6:]\n",
    "print('Train shape:', df.shape )\n",
    "print('Targets', list(TARGETS))\n",
    "df.head()"
   ]
  },
  {
   "cell_type": "markdown",
   "id": "e4417056",
   "metadata": {
    "papermill": {
     "duration": 0.009107,
     "end_time": "2024-02-14T07:09:49.349219",
     "exception": false,
     "start_time": "2024-02-14T07:09:49.340112",
     "status": "completed"
    },
    "tags": []
   },
   "source": [
    "# Create Non-Overlapping Eeg Id Train Data\n",
    "The competition data description says that test data does not have multiple crops from the same `eeg_id`. Therefore we will train and validate using only 1 crop per `eeg_id`. There is a discussion about this [here][1].\n",
    "\n",
    "[1]: https://www.kaggle.com/competitions/hms-harmful-brain-activity-classification/discussion/467021"
   ]
  },
  {
   "cell_type": "code",
   "execution_count": 3,
   "id": "c365a9fd",
   "metadata": {
    "execution": {
     "iopub.execute_input": "2024-02-14T07:09:49.369003Z",
     "iopub.status.busy": "2024-02-14T07:09:49.368681Z",
     "iopub.status.idle": "2024-02-14T07:09:49.470448Z",
     "shell.execute_reply": "2024-02-14T07:09:49.469561Z"
    },
    "papermill": {
     "duration": 0.114008,
     "end_time": "2024-02-14T07:09:49.472447",
     "exception": false,
     "start_time": "2024-02-14T07:09:49.358439",
     "status": "completed"
    },
    "tags": []
   },
   "outputs": [
    {
     "name": "stdout",
     "output_type": "stream",
     "text": [
      "Train non-overlapp eeg_id shape: (17089, 12)\n"
     ]
    },
    {
     "data": {
      "text/html": [
       "<div>\n",
       "<style scoped>\n",
       "    .dataframe tbody tr th:only-of-type {\n",
       "        vertical-align: middle;\n",
       "    }\n",
       "\n",
       "    .dataframe tbody tr th {\n",
       "        vertical-align: top;\n",
       "    }\n",
       "\n",
       "    .dataframe thead th {\n",
       "        text-align: right;\n",
       "    }\n",
       "</style>\n",
       "<table border=\"1\" class=\"dataframe\">\n",
       "  <thead>\n",
       "    <tr style=\"text-align: right;\">\n",
       "      <th></th>\n",
       "      <th>eeg_id</th>\n",
       "      <th>spec_id</th>\n",
       "      <th>min</th>\n",
       "      <th>max</th>\n",
       "      <th>patient_id</th>\n",
       "      <th>seizure_vote</th>\n",
       "      <th>lpd_vote</th>\n",
       "      <th>gpd_vote</th>\n",
       "      <th>lrda_vote</th>\n",
       "      <th>grda_vote</th>\n",
       "      <th>other_vote</th>\n",
       "      <th>target</th>\n",
       "    </tr>\n",
       "  </thead>\n",
       "  <tbody>\n",
       "    <tr>\n",
       "      <th>0</th>\n",
       "      <td>568657</td>\n",
       "      <td>789577333</td>\n",
       "      <td>0.0</td>\n",
       "      <td>16.0</td>\n",
       "      <td>20654</td>\n",
       "      <td>0.0</td>\n",
       "      <td>0.000000</td>\n",
       "      <td>0.25</td>\n",
       "      <td>0.000000</td>\n",
       "      <td>0.166667</td>\n",
       "      <td>0.583333</td>\n",
       "      <td>Other</td>\n",
       "    </tr>\n",
       "    <tr>\n",
       "      <th>1</th>\n",
       "      <td>582999</td>\n",
       "      <td>1552638400</td>\n",
       "      <td>0.0</td>\n",
       "      <td>38.0</td>\n",
       "      <td>20230</td>\n",
       "      <td>0.0</td>\n",
       "      <td>0.857143</td>\n",
       "      <td>0.00</td>\n",
       "      <td>0.071429</td>\n",
       "      <td>0.000000</td>\n",
       "      <td>0.071429</td>\n",
       "      <td>LPD</td>\n",
       "    </tr>\n",
       "    <tr>\n",
       "      <th>2</th>\n",
       "      <td>642382</td>\n",
       "      <td>14960202</td>\n",
       "      <td>1008.0</td>\n",
       "      <td>1032.0</td>\n",
       "      <td>5955</td>\n",
       "      <td>0.0</td>\n",
       "      <td>0.000000</td>\n",
       "      <td>0.00</td>\n",
       "      <td>0.000000</td>\n",
       "      <td>0.000000</td>\n",
       "      <td>1.000000</td>\n",
       "      <td>Other</td>\n",
       "    </tr>\n",
       "    <tr>\n",
       "      <th>3</th>\n",
       "      <td>751790</td>\n",
       "      <td>618728447</td>\n",
       "      <td>908.0</td>\n",
       "      <td>908.0</td>\n",
       "      <td>38549</td>\n",
       "      <td>0.0</td>\n",
       "      <td>0.000000</td>\n",
       "      <td>1.00</td>\n",
       "      <td>0.000000</td>\n",
       "      <td>0.000000</td>\n",
       "      <td>0.000000</td>\n",
       "      <td>GPD</td>\n",
       "    </tr>\n",
       "    <tr>\n",
       "      <th>4</th>\n",
       "      <td>778705</td>\n",
       "      <td>52296320</td>\n",
       "      <td>0.0</td>\n",
       "      <td>0.0</td>\n",
       "      <td>40955</td>\n",
       "      <td>0.0</td>\n",
       "      <td>0.000000</td>\n",
       "      <td>0.00</td>\n",
       "      <td>0.000000</td>\n",
       "      <td>0.000000</td>\n",
       "      <td>1.000000</td>\n",
       "      <td>Other</td>\n",
       "    </tr>\n",
       "  </tbody>\n",
       "</table>\n",
       "</div>"
      ],
      "text/plain": [
       "   eeg_id     spec_id     min     max  patient_id  seizure_vote  lpd_vote  \\\n",
       "0  568657   789577333     0.0    16.0       20654           0.0  0.000000   \n",
       "1  582999  1552638400     0.0    38.0       20230           0.0  0.857143   \n",
       "2  642382    14960202  1008.0  1032.0        5955           0.0  0.000000   \n",
       "3  751790   618728447   908.0   908.0       38549           0.0  0.000000   \n",
       "4  778705    52296320     0.0     0.0       40955           0.0  0.000000   \n",
       "\n",
       "   gpd_vote  lrda_vote  grda_vote  other_vote target  \n",
       "0      0.25   0.000000   0.166667    0.583333  Other  \n",
       "1      0.00   0.071429   0.000000    0.071429    LPD  \n",
       "2      0.00   0.000000   0.000000    1.000000  Other  \n",
       "3      1.00   0.000000   0.000000    0.000000    GPD  \n",
       "4      0.00   0.000000   0.000000    1.000000  Other  "
      ]
     },
     "execution_count": 3,
     "metadata": {},
     "output_type": "execute_result"
    }
   ],
   "source": [
    "train = df.groupby('eeg_id')[['spectrogram_id','spectrogram_label_offset_seconds']].agg(\n",
    "    {'spectrogram_id':'first','spectrogram_label_offset_seconds':'min'})\n",
    "train.columns = ['spec_id','min']\n",
    "\n",
    "tmp = df.groupby('eeg_id')[['spectrogram_id','spectrogram_label_offset_seconds']].agg(\n",
    "    {'spectrogram_label_offset_seconds':'max'})\n",
    "train['max'] = tmp\n",
    "\n",
    "tmp = df.groupby('eeg_id')[['patient_id']].agg('first')\n",
    "train['patient_id'] = tmp\n",
    "\n",
    "tmp = df.groupby('eeg_id')[TARGETS].agg('sum')\n",
    "for t in TARGETS:\n",
    "    train[t] = tmp[t].values\n",
    "    \n",
    "y_data = train[TARGETS].values\n",
    "y_data = y_data / y_data.sum(axis=1,keepdims=True)\n",
    "train[TARGETS] = y_data\n",
    "\n",
    "tmp = df.groupby('eeg_id')[['expert_consensus']].agg('first')\n",
    "train['target'] = tmp\n",
    "\n",
    "train = train.reset_index()\n",
    "print('Train non-overlapp eeg_id shape:', train.shape )\n",
    "train.head()"
   ]
  },
  {
   "cell_type": "code",
   "execution_count": 4,
   "id": "2aae56ca",
   "metadata": {
    "execution": {
     "iopub.execute_input": "2024-02-14T07:09:49.493994Z",
     "iopub.status.busy": "2024-02-14T07:09:49.493695Z",
     "iopub.status.idle": "2024-02-14T07:10:04.064939Z",
     "shell.execute_reply": "2024-02-14T07:10:04.064181Z"
    },
    "papermill": {
     "duration": 14.584922,
     "end_time": "2024-02-14T07:10:04.067173",
     "exception": false,
     "start_time": "2024-02-14T07:09:49.482251",
     "status": "completed"
    },
    "tags": []
   },
   "outputs": [],
   "source": [
    "def categorize_votes(row):    # row:行\n",
    "    \n",
    "    col_names = ['seizure_vote', 'lpd_vote', 'gpd_vote', 'lrda_vote', 'grda_vote', 'other_vote']\n",
    "    max_vote = row[col_names].max()\n",
    "    second_opinion = row[col_names[:-1]].sort_values(ascending=False).to_list()[1]\n",
    "\n",
    "    high_agreement_threshold = 0.7\n",
    "    equal_splitting_threshold = 0.4\n",
    "\n",
    "    # expert_consensusへの投票率70％の時\n",
    "    if max_vote >= high_agreement_threshold:    \n",
    "        return 'idealized'\n",
    "    # expert_consensusへの投票率40%以上かつ「other」への投票率も40％超えるとき\n",
    "    elif row['other_vote'] >= 0.4 and max_vote >= equal_splitting_threshold:\n",
    "        return 'proto'\n",
    "    # 「expert_consesnsu、other」以外の一意の脳波への投票が40%以上，かつexpert_consensusへの投票率が40％超えるとき\n",
    "    elif second_opinion >= equal_splitting_threshold and max_vote >= equal_splitting_threshold:\n",
    "        return 'edge'\n",
    "    # それ以外（専門家による見解にかなりの相違がみられる場合）\n",
    "    else:\n",
    "        return 'undecided'\n",
    "\n",
    "# 「pattern」列作成（生データでは各行の投票数少ないため、eeg_idでグルーピングしたデータフレームに追加する）\n",
    "train['pattern'] = train.apply(categorize_votes, axis=1)"
   ]
  },
  {
   "cell_type": "code",
   "execution_count": 5,
   "id": "bf8d47cc",
   "metadata": {
    "execution": {
     "iopub.execute_input": "2024-02-14T07:10:04.088811Z",
     "iopub.status.busy": "2024-02-14T07:10:04.088515Z",
     "iopub.status.idle": "2024-02-14T07:10:04.493859Z",
     "shell.execute_reply": "2024-02-14T07:10:04.492954Z"
    },
    "papermill": {
     "duration": 0.418406,
     "end_time": "2024-02-14T07:10:04.496252",
     "exception": false,
     "start_time": "2024-02-14T07:10:04.077846",
     "status": "completed"
    },
    "tags": []
   },
   "outputs": [],
   "source": [
    "import warnings\n",
    "warnings.filterwarnings('ignore')\n",
    "\n",
    "train_ = train[train['pattern']=='idealized']\n",
    "\n",
    "# def max_column_names(row):\n",
    "#     max_value = row.max()\n",
    "#     max_columns = row.index[row == max_value].nunique()\n",
    "#     return max_columns\n",
    "\n",
    "# train_['max_cols_num'] = train_[TARGETS].apply(lambda row: max_column_names(row), axis=1)\n",
    "\n",
    "def max_column_name(row):\n",
    "    max_col = row.idxmax()\n",
    "    return max_col[:-5]\n",
    "\n",
    "\n",
    "# apply関数を使用して各行に適用\n",
    "train_['max_column'] = train_[TARGETS].apply(max_column_name, axis=1)\n",
    "col_dict = {'seizure':'Seizure', 'gpd':'GPD', 'lrda':'LRDA', 'grda':'GRDA', 'lpd':'LPD', 'other':'Other'}\n",
    "train_['max_column'] = train_['max_column'].map(col_dict)"
   ]
  },
  {
   "cell_type": "code",
   "execution_count": 6,
   "id": "d9eb2abe",
   "metadata": {
    "execution": {
     "iopub.execute_input": "2024-02-14T07:10:04.517166Z",
     "iopub.status.busy": "2024-02-14T07:10:04.516860Z",
     "iopub.status.idle": "2024-02-14T07:10:04.533870Z",
     "shell.execute_reply": "2024-02-14T07:10:04.533048Z"
    },
    "papermill": {
     "duration": 0.029606,
     "end_time": "2024-02-14T07:10:04.535930",
     "exception": false,
     "start_time": "2024-02-14T07:10:04.506324",
     "status": "completed"
    },
    "tags": []
   },
   "outputs": [
    {
     "data": {
      "text/html": [
       "<div>\n",
       "<style scoped>\n",
       "    .dataframe tbody tr th:only-of-type {\n",
       "        vertical-align: middle;\n",
       "    }\n",
       "\n",
       "    .dataframe tbody tr th {\n",
       "        vertical-align: top;\n",
       "    }\n",
       "\n",
       "    .dataframe thead th {\n",
       "        text-align: right;\n",
       "    }\n",
       "</style>\n",
       "<table border=\"1\" class=\"dataframe\">\n",
       "  <thead>\n",
       "    <tr style=\"text-align: right;\">\n",
       "      <th></th>\n",
       "      <th>eeg_id</th>\n",
       "      <th>spec_id</th>\n",
       "      <th>min</th>\n",
       "      <th>max</th>\n",
       "      <th>patient_id</th>\n",
       "      <th>seizure_vote</th>\n",
       "      <th>lpd_vote</th>\n",
       "      <th>gpd_vote</th>\n",
       "      <th>lrda_vote</th>\n",
       "      <th>grda_vote</th>\n",
       "      <th>other_vote</th>\n",
       "      <th>target</th>\n",
       "      <th>pattern</th>\n",
       "      <th>max_column</th>\n",
       "    </tr>\n",
       "  </thead>\n",
       "  <tbody>\n",
       "    <tr>\n",
       "      <th>5365</th>\n",
       "      <td>1340518619</td>\n",
       "      <td>2136052867</td>\n",
       "      <td>0.0</td>\n",
       "      <td>0.0</td>\n",
       "      <td>55705</td>\n",
       "      <td>0.083333</td>\n",
       "      <td>0.750000</td>\n",
       "      <td>0.000000</td>\n",
       "      <td>0.0</td>\n",
       "      <td>0.0</td>\n",
       "      <td>0.166667</td>\n",
       "      <td>LPD</td>\n",
       "      <td>idealized</td>\n",
       "      <td>LPD</td>\n",
       "    </tr>\n",
       "    <tr>\n",
       "      <th>14236</th>\n",
       "      <td>3566130781</td>\n",
       "      <td>1372695154</td>\n",
       "      <td>0.0</td>\n",
       "      <td>14.0</td>\n",
       "      <td>44433</td>\n",
       "      <td>0.000000</td>\n",
       "      <td>0.066667</td>\n",
       "      <td>0.866667</td>\n",
       "      <td>0.0</td>\n",
       "      <td>0.0</td>\n",
       "      <td>0.066667</td>\n",
       "      <td>GPD</td>\n",
       "      <td>idealized</td>\n",
       "      <td>GPD</td>\n",
       "    </tr>\n",
       "  </tbody>\n",
       "</table>\n",
       "</div>"
      ],
      "text/plain": [
       "           eeg_id     spec_id  min   max  patient_id  seizure_vote  lpd_vote  \\\n",
       "5365   1340518619  2136052867  0.0   0.0       55705      0.083333  0.750000   \n",
       "14236  3566130781  1372695154  0.0  14.0       44433      0.000000  0.066667   \n",
       "\n",
       "       gpd_vote  lrda_vote  grda_vote  other_vote target    pattern max_column  \n",
       "5365   0.000000        0.0        0.0    0.166667    LPD  idealized        LPD  \n",
       "14236  0.866667        0.0        0.0    0.066667    GPD  idealized        GPD  "
      ]
     },
     "execution_count": 6,
     "metadata": {},
     "output_type": "execute_result"
    }
   ],
   "source": [
    "train_.sample(2)"
   ]
  },
  {
   "cell_type": "code",
   "execution_count": 7,
   "id": "82aea166",
   "metadata": {
    "execution": {
     "iopub.execute_input": "2024-02-14T07:10:04.558373Z",
     "iopub.status.busy": "2024-02-14T07:10:04.558113Z",
     "iopub.status.idle": "2024-02-14T07:10:04.561771Z",
     "shell.execute_reply": "2024-02-14T07:10:04.561042Z"
    },
    "papermill": {
     "duration": 0.016337,
     "end_time": "2024-02-14T07:10:04.563528",
     "exception": false,
     "start_time": "2024-02-14T07:10:04.547191",
     "status": "completed"
    },
    "tags": []
   },
   "outputs": [],
   "source": [
    "READ_SPEC_FILES = False\n",
    "READ_EEG_SPEC_FILES = False"
   ]
  },
  {
   "cell_type": "code",
   "execution_count": 8,
   "id": "2ea060af",
   "metadata": {
    "execution": {
     "iopub.execute_input": "2024-02-14T07:10:04.584420Z",
     "iopub.status.busy": "2024-02-14T07:10:04.584161Z",
     "iopub.status.idle": "2024-02-14T07:10:59.613410Z",
     "shell.execute_reply": "2024-02-14T07:10:59.612528Z"
    },
    "papermill": {
     "duration": 55.052207,
     "end_time": "2024-02-14T07:10:59.625639",
     "exception": false,
     "start_time": "2024-02-14T07:10:04.573432",
     "status": "completed"
    },
    "tags": []
   },
   "outputs": [
    {
     "name": "stdout",
     "output_type": "stream",
     "text": [
      "There are 11138 spectrogram parquets\n",
      "CPU times: user 2.72 s, sys: 6.01 s, total: 8.72 s\n",
      "Wall time: 55 s\n"
     ]
    }
   ],
   "source": [
    "%%time\n",
    "# READ ALL SPECTROGRAMS\n",
    "PATH = '/kaggle/input/hms-harmful-brain-activity-classification/train_spectrograms/'\n",
    "files = os.listdir(PATH)\n",
    "print(f'There are {len(files)} spectrogram parquets')\n",
    "\n",
    "if READ_SPEC_FILES:    \n",
    "    spectrograms = {}\n",
    "    for i,f in enumerate(files):\n",
    "        if i%100==0: print(i,', ',end='')\n",
    "        tmp = pd.read_parquet(f'{PATH}{f}')\n",
    "        name = int(f.split('.')[0])\n",
    "        spectrograms[name] = tmp.iloc[:,1:].values\n",
    "else:\n",
    "    spectrograms = np.load('/kaggle/input/brain-spectrograms/specs.npy',allow_pickle=True).item()"
   ]
  },
  {
   "cell_type": "code",
   "execution_count": 9,
   "id": "440bccfc",
   "metadata": {
    "execution": {
     "iopub.execute_input": "2024-02-14T07:10:59.647023Z",
     "iopub.status.busy": "2024-02-14T07:10:59.646696Z",
     "iopub.status.idle": "2024-02-14T07:12:10.442891Z",
     "shell.execute_reply": "2024-02-14T07:12:10.441955Z"
    },
    "papermill": {
     "duration": 70.819529,
     "end_time": "2024-02-14T07:12:10.455403",
     "exception": false,
     "start_time": "2024-02-14T07:10:59.635874",
     "status": "completed"
    },
    "tags": []
   },
   "outputs": [
    {
     "name": "stdout",
     "output_type": "stream",
     "text": [
      "CPU times: user 4.37 s, sys: 8.35 s, total: 12.7 s\n",
      "Wall time: 1min 10s\n"
     ]
    }
   ],
   "source": [
    "%%time\n",
    "# READ ALL EEG SPECTROGRAMS\n",
    "if READ_EEG_SPEC_FILES:\n",
    "    all_eegs = {}\n",
    "    for i,e in enumerate(train.eeg_id.values):\n",
    "        if i%100==0: print(i,', ',end='')\n",
    "        x = np.load(f'/kaggle/input/brain-eeg-spectrograms/EEG_Spectrograms/{e}.npy')\n",
    "        all_eegs[e] = x\n",
    "else:\n",
    "    all_eegs = np.load('/kaggle/input/brain-eeg-spectrograms/eeg_specs.npy',allow_pickle=True).item()"
   ]
  },
  {
   "cell_type": "code",
   "execution_count": 10,
   "id": "2181ccb8",
   "metadata": {
    "execution": {
     "iopub.execute_input": "2024-02-14T07:12:10.477796Z",
     "iopub.status.busy": "2024-02-14T07:12:10.477485Z",
     "iopub.status.idle": "2024-02-14T07:12:46.760147Z",
     "shell.execute_reply": "2024-02-14T07:12:46.759127Z"
    },
    "papermill": {
     "duration": 36.296476,
     "end_time": "2024-02-14T07:12:46.762231",
     "exception": false,
     "start_time": "2024-02-14T07:12:10.465755",
     "status": "completed"
    },
    "tags": []
   },
   "outputs": [
    {
     "name": "stdout",
     "output_type": "stream",
     "text": [
      "CPU times: user 2 µs, sys: 2 µs, total: 4 µs\n",
      "Wall time: 6.2 µs\n",
      "We are creating 3648 features for 17089 rows... 0 , 100 , 200 , 300 , 400 , 500 , 600 , 700 , 800 , 900 , 1000 , 1100 , 1200 , 1300 , 1400 , 1500 , 1600 , 1700 , 1800 , 1900 , 2000 , 2100 , 2200 , 2300 , 2400 , 2500 , 2600 , 2700 , 2800 , 2900 , 3000 , 3100 , 3200 , 3300 , 3400 , 3500 , 3600 , 3700 , 3800 , 3900 , 4000 , 4100 , 4200 , 4300 , 4400 , 4500 , 4600 , 4700 , 4800 , 4900 , 5000 , 5100 , 5200 , 5300 , 5400 , 5500 , 5600 , 5700 , 5800 , 5900 , 6000 , 6100 , 6200 , 6300 , 6400 , 6500 , 6600 , 6700 , 6800 , 6900 , 7000 , 7100 , 7200 , 7300 , 7400 , 7500 , 7600 , 7700 , 7800 , 7900 , 8000 , 8100 , 8200 , 8300 , 8400 , 8500 , 8600 , 8700 , 8800 , 8900 , 9000 , 9100 , 9200 , 9300 , 9400 , 9500 , 9600 , 9700 , 9800 , 9900 , 10000 , 10100 , 10200 , 10300 , 10400 , 10500 , 10600 , 10700 , 10800 , 10900 , 11000 , 11100 , 11200 , 11300 , 11400 , 11500 , 11600 , 11700 , 11800 , 11900 , 12000 , \n",
      "New train_ shape: (12037, 3662)\n"
     ]
    }
   ],
   "source": [
    "%time\n",
    "# ENGINEER FEATURES\n",
    "import warnings\n",
    "warnings.filterwarnings('ignore')\n",
    "\n",
    "# FEATURE NAMES\n",
    "SPEC_COLS = pd.read_parquet(f'{PATH}1000086677.parquet').columns[1:]\n",
    "FEATURES = [f'{c}_mean_10m' for c in SPEC_COLS]\n",
    "FEATURES += [f'{c}_min_10m' for c in SPEC_COLS]\n",
    "FEATURES += [f'{c}_mean_20s' for c in SPEC_COLS]\n",
    "FEATURES += [f'{c}_min_20s' for c in SPEC_COLS]\n",
    "FEATURES += [f'eeg_mean_f{x}_10s' for x in range(512)]\n",
    "FEATURES += [f'eeg_min_f{x}_10s' for x in range(512)]\n",
    "FEATURES += [f'eeg_max_f{x}_10s' for x in range(512)]\n",
    "FEATURES += [f'eeg_std_f{x}_10s' for x in range(512)]\n",
    "print(f'We are creating {len(FEATURES)} features for {len(train)} rows... ',end='')\n",
    "\n",
    "data = np.zeros((len(train_),len(FEATURES)))\n",
    "for k in range(len(train_)):\n",
    "    if k%100==0: print(k,', ',end='')\n",
    "    row = train_.iloc[k]\n",
    "    r = int( (row['min'] + row['max'])//4 ) \n",
    "\n",
    "    # 10 MINUTE WINDOW FEATURES (MEANS and MINS)\n",
    "    x = np.nanmean(spectrograms[row.spec_id][r:r+300,:],axis=0)\n",
    "    data[k,:400] = x\n",
    "    x = np.nanmin(spectrograms[row.spec_id][r:r+300,:],axis=0)\n",
    "    data[k,400:800] = x\n",
    "\n",
    "    # 20 SECOND WINDOW FEATURES (MEANS and MINS)\n",
    "    x = np.nanmean(spectrograms[row.spec_id][r+145:r+155,:],axis=0)\n",
    "    data[k,800:1200] = x\n",
    "    x = np.nanmin(spectrograms[row.spec_id][r+145:r+155,:],axis=0)\n",
    "    data[k,1200:1600] = x\n",
    "\n",
    "    # RESHAPE EEG SPECTROGRAMS 128x256x4 => 512x256\n",
    "    eeg_spec = np.zeros((512,256),dtype='float32')\n",
    "    xx = all_eegs[row.eeg_id]\n",
    "    for j in range(4): eeg_spec[128*j:128*(j+1),] = xx[:,:,j]\n",
    "\n",
    "    # 10 SECOND WINDOW FROM EEG SPECTROGRAMS \n",
    "    x = np.nanmean(eeg_spec.T[100:-100,:],axis=0)\n",
    "    data[k,1600:2112] = x\n",
    "    x = np.nanmin(eeg_spec.T[100:-100,:],axis=0)\n",
    "    data[k,2112:2624] = x\n",
    "    x = np.nanmax(eeg_spec.T[100:-100,:],axis=0)\n",
    "    data[k,2624:3136] = x\n",
    "    x = np.nanstd(eeg_spec.T[100:-100,:],axis=0)\n",
    "    data[k,3136:3648] = x\n",
    "\n",
    "train_[FEATURES] = data\n",
    "print(); print('New train_ shape:',train_.shape)"
   ]
  },
  {
   "cell_type": "code",
   "execution_count": 11,
   "id": "70803f7c",
   "metadata": {
    "execution": {
     "iopub.execute_input": "2024-02-14T07:12:46.802034Z",
     "iopub.status.busy": "2024-02-14T07:12:46.801708Z",
     "iopub.status.idle": "2024-02-14T07:12:46.932467Z",
     "shell.execute_reply": "2024-02-14T07:12:46.931664Z"
    },
    "papermill": {
     "duration": 0.152631,
     "end_time": "2024-02-14T07:12:46.934326",
     "exception": false,
     "start_time": "2024-02-14T07:12:46.781695",
     "status": "completed"
    },
    "tags": []
   },
   "outputs": [
    {
     "data": {
      "text/plain": [
       "0"
      ]
     },
     "execution_count": 11,
     "metadata": {},
     "output_type": "execute_result"
    }
   ],
   "source": [
    "# FREE MEMORY\n",
    "del all_eegs, spectrograms, data\n",
    "gc.collect()"
   ]
  },
  {
   "cell_type": "markdown",
   "id": "6c96d9fa",
   "metadata": {
    "papermill": {
     "duration": 0.019342,
     "end_time": "2024-02-14T07:12:46.973184",
     "exception": false,
     "start_time": "2024-02-14T07:12:46.953842",
     "status": "completed"
    },
    "tags": []
   },
   "source": [
    "# Train CatBoost\n",
    "We use the default settings for CatBoost which are pretty good. We can tune CatBoost manually to improve CV and LB score. Note that CatBoost will automatically use both Kaggle T4 GPUs (when we add parameter `task_type='GPU'`)  for super fast training!"
   ]
  },
  {
   "cell_type": "code",
   "execution_count": 12,
   "id": "c39b2813",
   "metadata": {
    "execution": {
     "iopub.execute_input": "2024-02-14T07:12:47.055606Z",
     "iopub.status.busy": "2024-02-14T07:12:47.055257Z",
     "iopub.status.idle": "2024-02-14T07:12:48.662834Z",
     "shell.execute_reply": "2024-02-14T07:12:48.661666Z"
    },
    "papermill": {
     "duration": 1.630582,
     "end_time": "2024-02-14T07:12:48.665302",
     "exception": false,
     "start_time": "2024-02-14T07:12:47.034720",
     "status": "completed"
    },
    "tags": []
   },
   "outputs": [
    {
     "name": "stdout",
     "output_type": "stream",
     "text": [
      "CatBoost version 1.2.2\n"
     ]
    }
   ],
   "source": [
    "import catboost as cat\n",
    "from catboost import CatBoostClassifier, Pool\n",
    "print('CatBoost version',cat.__version__)"
   ]
  },
  {
   "cell_type": "code",
   "execution_count": 13,
   "id": "d7c22f85",
   "metadata": {
    "execution": {
     "iopub.execute_input": "2024-02-14T07:12:48.706582Z",
     "iopub.status.busy": "2024-02-14T07:12:48.706002Z",
     "iopub.status.idle": "2024-02-14T07:12:49.104559Z",
     "shell.execute_reply": "2024-02-14T07:12:49.103617Z"
    },
    "papermill": {
     "duration": 0.423977,
     "end_time": "2024-02-14T07:12:49.109234",
     "exception": false,
     "start_time": "2024-02-14T07:12:48.685257",
     "status": "completed"
    },
    "tags": []
   },
   "outputs": [],
   "source": [
    "train_ = train_.reset_index(drop=True)"
   ]
  },
  {
   "cell_type": "code",
   "execution_count": 14,
   "id": "cf9528ee",
   "metadata": {
    "execution": {
     "iopub.execute_input": "2024-02-14T07:12:49.150565Z",
     "iopub.status.busy": "2024-02-14T07:12:49.150031Z",
     "iopub.status.idle": "2024-02-14T07:20:46.254173Z",
     "shell.execute_reply": "2024-02-14T07:20:46.253286Z"
    },
    "papermill": {
     "duration": 477.126845,
     "end_time": "2024-02-14T07:20:46.256667",
     "exception": false,
     "start_time": "2024-02-14T07:12:49.129822",
     "status": "completed"
    },
    "tags": []
   },
   "outputs": [
    {
     "name": "stdout",
     "output_type": "stream",
     "text": [
      "#########################\n",
      "### Fold 1\n",
      "### train size 9629, valid size 2408\n",
      "#########################\n",
      "Learning rate set to 0.132182\n",
      "0:\tlearn: 1.6003211\ttest: 1.6285962\tbest: 1.6285962 (0)\ttotal: 360ms\tremaining: 5m 59s\n",
      "100:\tlearn: 0.5127920\ttest: 0.8934969\tbest: 0.8934595 (98)\ttotal: 9.87s\tremaining: 1m 27s\n",
      "200:\tlearn: 0.3627765\ttest: 0.8392315\tbest: 0.8392315 (200)\ttotal: 19.1s\tremaining: 1m 16s\n",
      "300:\tlearn: 0.2795382\ttest: 0.8229693\tbest: 0.8225493 (293)\ttotal: 28.4s\tremaining: 1m 5s\n",
      "400:\tlearn: 0.2220308\ttest: 0.8150937\tbest: 0.8144053 (380)\ttotal: 37.5s\tremaining: 56s\n",
      "500:\tlearn: 0.1788332\ttest: 0.8141331\tbest: 0.8136763 (411)\ttotal: 46.4s\tremaining: 46.3s\n",
      "600:\tlearn: 0.1463932\ttest: 0.8210854\tbest: 0.8136763 (411)\ttotal: 55.7s\tremaining: 37s\n",
      "700:\tlearn: 0.1221237\ttest: 0.8214347\tbest: 0.8136763 (411)\ttotal: 1m 4s\tremaining: 27.5s\n",
      "800:\tlearn: 0.1009624\ttest: 0.8226533\tbest: 0.8136763 (411)\ttotal: 1m 13s\tremaining: 18.3s\n",
      "900:\tlearn: 0.0854062\ttest: 0.8265961\tbest: 0.8136763 (411)\ttotal: 1m 22s\tremaining: 9.03s\n",
      "999:\tlearn: 0.0724380\ttest: 0.8311341\tbest: 0.8136763 (411)\ttotal: 1m 31s\tremaining: 0us\n",
      "bestTest = 0.8136763462\n",
      "bestIteration = 411\n",
      "Shrink model to first 412 iterations.\n",
      "#########################\n",
      "### Fold 2\n",
      "### train size 9629, valid size 2408\n",
      "#########################\n",
      "Learning rate set to 0.132182\n",
      "0:\tlearn: 1.6052285\ttest: 1.6394256\tbest: 1.6394256 (0)\ttotal: 164ms\tremaining: 2m 44s\n",
      "100:\tlearn: 0.5174635\ttest: 0.8501055\tbest: 0.8501055 (100)\ttotal: 9.29s\tremaining: 1m 22s\n",
      "200:\tlearn: 0.3778574\ttest: 0.8024020\tbest: 0.8023356 (199)\ttotal: 18.7s\tremaining: 1m 14s\n",
      "300:\tlearn: 0.2912485\ttest: 0.7775033\tbest: 0.7773473 (299)\ttotal: 27.7s\tremaining: 1m 4s\n",
      "400:\tlearn: 0.2328436\ttest: 0.7691251\tbest: 0.7689334 (399)\ttotal: 36.6s\tremaining: 54.7s\n",
      "500:\tlearn: 0.1862373\ttest: 0.7676789\tbest: 0.7662461 (444)\ttotal: 45.7s\tremaining: 45.5s\n",
      "600:\tlearn: 0.1518783\ttest: 0.7692253\tbest: 0.7662461 (444)\ttotal: 54.9s\tremaining: 36.5s\n",
      "700:\tlearn: 0.1263479\ttest: 0.7718571\tbest: 0.7662461 (444)\ttotal: 1m 3s\tremaining: 27.1s\n",
      "800:\tlearn: 0.1065316\ttest: 0.7730408\tbest: 0.7662461 (444)\ttotal: 1m 12s\tremaining: 18s\n",
      "900:\tlearn: 0.0901046\ttest: 0.7772726\tbest: 0.7662461 (444)\ttotal: 1m 21s\tremaining: 8.95s\n",
      "999:\tlearn: 0.0773214\ttest: 0.7809372\tbest: 0.7662461 (444)\ttotal: 1m 30s\tremaining: 0us\n",
      "bestTest = 0.7662460986\n",
      "bestIteration = 444\n",
      "Shrink model to first 445 iterations.\n",
      "#########################\n",
      "### Fold 3\n",
      "### train size 9630, valid size 2407\n",
      "#########################\n",
      "Learning rate set to 0.132184\n",
      "0:\tlearn: 1.6147849\ttest: 1.6308233\tbest: 1.6308233 (0)\ttotal: 185ms\tremaining: 3m 4s\n",
      "100:\tlearn: 0.5302882\ttest: 0.7837877\tbest: 0.7821009 (98)\ttotal: 9.66s\tremaining: 1m 26s\n",
      "200:\tlearn: 0.3842456\ttest: 0.7407832\tbest: 0.7407832 (200)\ttotal: 18.8s\tremaining: 1m 14s\n",
      "300:\tlearn: 0.2977262\ttest: 0.7280290\tbest: 0.7280290 (300)\ttotal: 28s\tremaining: 1m 4s\n",
      "400:\tlearn: 0.2382700\ttest: 0.7166754\tbest: 0.7163993 (398)\ttotal: 37.1s\tremaining: 55.4s\n",
      "500:\tlearn: 0.1923337\ttest: 0.7132377\tbest: 0.7123867 (477)\ttotal: 46.3s\tremaining: 46.1s\n",
      "600:\tlearn: 0.1572987\ttest: 0.7129524\tbest: 0.7121739 (518)\ttotal: 55.5s\tremaining: 36.9s\n",
      "700:\tlearn: 0.1314128\ttest: 0.7097167\tbest: 0.7095198 (699)\ttotal: 1m 4s\tremaining: 27.5s\n",
      "800:\tlearn: 0.1094303\ttest: 0.7075866\tbest: 0.7072438 (760)\ttotal: 1m 13s\tremaining: 18.3s\n",
      "900:\tlearn: 0.0918184\ttest: 0.7091152\tbest: 0.7060887 (822)\ttotal: 1m 22s\tremaining: 9.09s\n",
      "999:\tlearn: 0.0786871\ttest: 0.7104286\tbest: 0.7060887 (822)\ttotal: 1m 31s\tremaining: 0us\n",
      "bestTest = 0.7060886664\n",
      "bestIteration = 822\n",
      "Shrink model to first 823 iterations.\n",
      "#########################\n",
      "### Fold 4\n",
      "### train size 9630, valid size 2407\n",
      "#########################\n",
      "Learning rate set to 0.132184\n",
      "0:\tlearn: 1.6070394\ttest: 1.6198041\tbest: 1.6198041 (0)\ttotal: 182ms\tremaining: 3m 1s\n",
      "100:\tlearn: 0.5313178\ttest: 0.8160867\tbest: 0.8160867 (100)\ttotal: 9.87s\tremaining: 1m 27s\n",
      "200:\tlearn: 0.3819191\ttest: 0.7748495\tbest: 0.7748495 (200)\ttotal: 19s\tremaining: 1m 15s\n",
      "300:\tlearn: 0.2932301\ttest: 0.7600972\tbest: 0.7594061 (298)\ttotal: 28.6s\tremaining: 1m 6s\n",
      "400:\tlearn: 0.2365097\ttest: 0.7564656\tbest: 0.7535167 (384)\ttotal: 37.4s\tremaining: 55.9s\n",
      "500:\tlearn: 0.1911933\ttest: 0.7524485\tbest: 0.7519283 (486)\ttotal: 46.5s\tremaining: 46.3s\n",
      "600:\tlearn: 0.1578701\ttest: 0.7621279\tbest: 0.7519283 (486)\ttotal: 55.4s\tremaining: 36.8s\n",
      "700:\tlearn: 0.1304139\ttest: 0.7714577\tbest: 0.7519283 (486)\ttotal: 1m 4s\tremaining: 27.7s\n",
      "800:\tlearn: 0.1101120\ttest: 0.7754263\tbest: 0.7519283 (486)\ttotal: 1m 13s\tremaining: 18.3s\n",
      "900:\tlearn: 0.0932454\ttest: 0.7774785\tbest: 0.7519283 (486)\ttotal: 1m 22s\tremaining: 9.1s\n",
      "999:\tlearn: 0.0805255\ttest: 0.7822400\tbest: 0.7519283 (486)\ttotal: 1m 31s\tremaining: 0us\n",
      "bestTest = 0.7519282748\n",
      "bestIteration = 486\n",
      "Shrink model to first 487 iterations.\n",
      "#########################\n",
      "### Fold 5\n",
      "### train size 9630, valid size 2407\n",
      "#########################\n",
      "Learning rate set to 0.132184\n",
      "0:\tlearn: 1.5973409\ttest: 1.6483987\tbest: 1.6483987 (0)\ttotal: 179ms\tremaining: 2m 58s\n",
      "100:\tlearn: 0.5122262\ttest: 1.0059359\tbest: 1.0031545 (92)\ttotal: 9.73s\tremaining: 1m 26s\n",
      "200:\tlearn: 0.3679542\ttest: 0.9762086\tbest: 0.9743890 (195)\ttotal: 19.2s\tremaining: 1m 16s\n",
      "300:\tlearn: 0.2833308\ttest: 0.9760685\tbest: 0.9720376 (232)\ttotal: 28.5s\tremaining: 1m 6s\n",
      "400:\tlearn: 0.2240592\ttest: 0.9821048\tbest: 0.9720376 (232)\ttotal: 37.7s\tremaining: 56.3s\n",
      "500:\tlearn: 0.1786980\ttest: 0.9912146\tbest: 0.9720376 (232)\ttotal: 46.6s\tremaining: 46.4s\n",
      "600:\tlearn: 0.1468293\ttest: 1.0049960\tbest: 0.9720376 (232)\ttotal: 55.4s\tremaining: 36.8s\n",
      "700:\tlearn: 0.1206622\ttest: 1.0144450\tbest: 0.9720376 (232)\ttotal: 1m 4s\tremaining: 27.6s\n",
      "800:\tlearn: 0.1013199\ttest: 1.0222384\tbest: 0.9720376 (232)\ttotal: 1m 13s\tremaining: 18.2s\n",
      "900:\tlearn: 0.0856482\ttest: 1.0265594\tbest: 0.9720376 (232)\ttotal: 1m 22s\tremaining: 9.06s\n",
      "999:\tlearn: 0.0731528\ttest: 1.0355111\tbest: 0.9720376 (232)\ttotal: 1m 31s\tremaining: 0us\n",
      "bestTest = 0.9720376319\n",
      "bestIteration = 232\n",
      "Shrink model to first 233 iterations.\n"
     ]
    }
   ],
   "source": [
    "from sklearn.model_selection import KFold, GroupKFold\n",
    "\n",
    "all_oof = []\n",
    "all_true = []\n",
    "TARS = {'Seizure':0, 'LPD':1, 'GPD':2, 'LRDA':3, 'GRDA':4, 'Other':5}\n",
    "\n",
    "gkf = GroupKFold(n_splits=5)\n",
    "for i, (train_index, valid_index) in enumerate(gkf.split(train_, train_.max_column, train_.patient_id)):   \n",
    "    \n",
    "    print('#'*25)\n",
    "    print(f'### Fold {i+1}')\n",
    "    print(f'### train size {len(train_index)}, valid size {len(valid_index)}')\n",
    "    print('#'*25)\n",
    "    \n",
    "    model = CatBoostClassifier(task_type='GPU',\n",
    "                               loss_function='MultiClass')\n",
    "    \n",
    "    train_pool = Pool(\n",
    "        data = train_.loc[train_index,FEATURES],\n",
    "        label = train_.loc[train_index,'max_column'].map(TARS),\n",
    "    )\n",
    "    \n",
    "    valid_pool = Pool(\n",
    "        data = train_.loc[valid_index,FEATURES],\n",
    "        label = train_.loc[valid_index,'max_column'].map(TARS),\n",
    "    )\n",
    "    \n",
    "    model.fit(train_pool,\n",
    "             verbose=100,\n",
    "             eval_set=valid_pool,\n",
    "             )\n",
    "    model.save_model(f'CAT_v{VER}_f{i}.cat')\n",
    "    \n",
    "    oof = model.predict_proba(valid_pool)\n",
    "    all_oof.append(oof)\n",
    "    all_true.append(train_.loc[valid_index, TARGETS].values)\n",
    "    \n",
    "    del train_pool, valid_pool, oof #model\n",
    "    gc.collect()\n",
    "    \n",
    "    #break\n",
    "    \n",
    "all_oof = np.concatenate(all_oof)\n",
    "all_true = np.concatenate(all_true)"
   ]
  },
  {
   "cell_type": "markdown",
   "id": "f8bd670d",
   "metadata": {
    "papermill": {
     "duration": 0.034269,
     "end_time": "2024-02-14T07:20:46.325342",
     "exception": false,
     "start_time": "2024-02-14T07:20:46.291073",
     "status": "completed"
    },
    "tags": []
   },
   "source": [
    "# Feature Importance\n",
    "Below we display the CatBoost top 25 feature importance for the last fold we trained."
   ]
  },
  {
   "cell_type": "code",
   "execution_count": 15,
   "id": "ef8b29a0",
   "metadata": {
    "execution": {
     "iopub.execute_input": "2024-02-14T07:20:46.395515Z",
     "iopub.status.busy": "2024-02-14T07:20:46.395156Z",
     "iopub.status.idle": "2024-02-14T07:20:47.005518Z",
     "shell.execute_reply": "2024-02-14T07:20:47.004585Z"
    },
    "papermill": {
     "duration": 0.648251,
     "end_time": "2024-02-14T07:20:47.008108",
     "exception": false,
     "start_time": "2024-02-14T07:20:46.359857",
     "status": "completed"
    },
    "tags": []
   },
   "outputs": [
    {
     "data": {
      "image/png": "[encoded data removed]",
      "text/plain": [
       "<Figure size 1000x800 with 1 Axes>"
      ]
     },
     "metadata": {},
     "output_type": "display_data"
    }
   ],
   "source": [
    "TOP = 25\n",
    "\n",
    "feature_importance = model.feature_importances_\n",
    "sorted_idx = np.argsort(feature_importance)\n",
    "fig = plt.figure(figsize=(10, 8))\n",
    "plt.barh(np.arange(len(sorted_idx))[-TOP:], feature_importance[sorted_idx][-TOP:], align='center')\n",
    "plt.yticks(np.arange(len(sorted_idx))[-TOP:], np.array(FEATURES)[sorted_idx][-TOP:])\n",
    "plt.title(f'Feature Importance - Top {TOP}')\n",
    "plt.show()"
   ]
  },
  {
   "cell_type": "markdown",
   "id": "413f88a4",
   "metadata": {
    "papermill": {
     "duration": 0.035298,
     "end_time": "2024-02-14T07:20:47.083113",
     "exception": false,
     "start_time": "2024-02-14T07:20:47.047815",
     "status": "completed"
    },
    "tags": []
   },
   "source": [
    "# CV Score for CatBoost\n",
    "This is CV score for our CatBoost model."
   ]
  },
  {
   "cell_type": "code",
   "execution_count": 16,
   "id": "e64763c6",
   "metadata": {
    "execution": {
     "iopub.execute_input": "2024-02-14T07:20:47.136374Z",
     "iopub.status.busy": "2024-02-14T07:20:47.136064Z",
     "iopub.status.idle": "2024-02-14T07:20:47.202046Z",
     "shell.execute_reply": "2024-02-14T07:20:47.201124Z"
    },
    "papermill": {
     "duration": 0.095107,
     "end_time": "2024-02-14T07:20:47.204124",
     "exception": false,
     "start_time": "2024-02-14T07:20:47.109017",
     "status": "completed"
    },
    "tags": []
   },
   "outputs": [
    {
     "name": "stdout",
     "output_type": "stream",
     "text": [
      "CV Score KL-Div for CatBoost = 0.7714957092660484\n"
     ]
    }
   ],
   "source": [
    "import sys\n",
    "sys.path.append('/kaggle/input/kaggle-kl-div')\n",
    "from kaggle_kl_div import score\n",
    "\n",
    "oof = pd.DataFrame(all_oof.copy())\n",
    "oof['id'] = np.arange(len(oof))\n",
    "\n",
    "true = pd.DataFrame(all_true.copy())\n",
    "true['id'] = np.arange(len(true))\n",
    "\n",
    "cv = score(solution=true, submission=oof, row_id_column_name='id')\n",
    "print('CV Score KL-Div for CatBoost =',cv)"
   ]
  },
  {
   "cell_type": "markdown",
   "id": "4d1829f4",
   "metadata": {
    "papermill": {
     "duration": 0.026352,
     "end_time": "2024-02-14T07:20:47.256650",
     "exception": false,
     "start_time": "2024-02-14T07:20:47.230298",
     "status": "completed"
    },
    "tags": []
   },
   "source": [
    "# CV Score for Preds 1/6\n",
    "This is CV score for Kaggle's sample submission.csv which uses equal predictions of 1/6 for all targets."
   ]
  },
  {
   "cell_type": "code",
   "execution_count": 17,
   "id": "6c1b2322",
   "metadata": {
    "execution": {
     "iopub.execute_input": "2024-02-14T07:20:47.308778Z",
     "iopub.status.busy": "2024-02-14T07:20:47.308501Z",
     "iopub.status.idle": "2024-02-14T07:20:47.354812Z",
     "shell.execute_reply": "2024-02-14T07:20:47.353796Z"
    },
    "papermill": {
     "duration": 0.074574,
     "end_time": "2024-02-14T07:20:47.356698",
     "exception": false,
     "start_time": "2024-02-14T07:20:47.282124",
     "status": "completed"
    },
    "tags": []
   },
   "outputs": [
    {
     "name": "stdout",
     "output_type": "stream",
     "text": [
      "CV Score for \"Use Equal Preds 1/6\" = 1.6820009014342383\n"
     ]
    }
   ],
   "source": [
    "oof = pd.DataFrame(all_oof.copy())\n",
    "for c in oof.columns:\n",
    "    oof[c] = 1/6.\n",
    "oof['id'] = np.arange(len(oof))\n",
    "\n",
    "true = pd.DataFrame(all_true.copy())\n",
    "true['id'] = np.arange(len(true))\n",
    "\n",
    "cv = score(solution=true, submission=oof, row_id_column_name='id')\n",
    "print('CV Score for \"Use Equal Preds 1/6\" =',cv)"
   ]
  },
  {
   "cell_type": "markdown",
   "id": "a4414e2c",
   "metadata": {
    "papermill": {
     "duration": 0.025322,
     "end_time": "2024-02-14T07:20:47.407546",
     "exception": false,
     "start_time": "2024-02-14T07:20:47.382224",
     "status": "completed"
    },
    "tags": []
   },
   "source": [
    "# CV Score for EEG_Id Means\n",
    "This is CV score for current highest scoring public notebook [here][1] which uses train means as predictions.\n",
    "\n",
    "[1]: https://www.kaggle.com/code/seshurajup/eda-train-csv"
   ]
  },
  {
   "cell_type": "code",
   "execution_count": 18,
   "id": "bf0eec1c",
   "metadata": {
    "execution": {
     "iopub.execute_input": "2024-02-14T07:20:47.459764Z",
     "iopub.status.busy": "2024-02-14T07:20:47.459471Z",
     "iopub.status.idle": "2024-02-14T07:20:47.953423Z",
     "shell.execute_reply": "2024-02-14T07:20:47.952379Z"
    },
    "papermill": {
     "duration": 0.522881,
     "end_time": "2024-02-14T07:20:47.955803",
     "exception": false,
     "start_time": "2024-02-14T07:20:47.432922",
     "status": "completed"
    },
    "tags": []
   },
   "outputs": [],
   "source": [
    "all_oof2 = []\n",
    "\n",
    "gkf = GroupKFold(n_splits=5)\n",
    "for i, (train_index, valid_index) in enumerate(gkf.split(train_, train_.max_column, train_.patient_id)):  \n",
    "    #print('#'*25)\n",
    "    #print(f'### Fold {i+1}')\n",
    "        \n",
    "    y_train = train_.iloc[train_index][TARGETS].values\n",
    "    y_valid = train_.iloc[valid_index][TARGETS].values\n",
    "    \n",
    "    #print(f'### train size {len(train_index)}, valid size {len(valid_index)}')\n",
    "    #print('#'*25)\n",
    "        \n",
    "    oof = y_valid.copy()\n",
    "    for j in range(6):\n",
    "        oof[:,j] = y_train[:,j].mean()\n",
    "    oof = oof / oof.sum(axis=1,keepdims=True)\n",
    "    all_oof2.append(oof)\n",
    "    \n",
    "all_oof2 = np.concatenate(all_oof2)"
   ]
  },
  {
   "cell_type": "code",
   "execution_count": 19,
   "id": "548e3955",
   "metadata": {
    "execution": {
     "iopub.execute_input": "2024-02-14T07:20:48.009087Z",
     "iopub.status.busy": "2024-02-14T07:20:48.008739Z",
     "iopub.status.idle": "2024-02-14T07:20:48.058109Z",
     "shell.execute_reply": "2024-02-14T07:20:48.057216Z"
    },
    "papermill": {
     "duration": 0.077976,
     "end_time": "2024-02-14T07:20:48.059927",
     "exception": false,
     "start_time": "2024-02-14T07:20:47.981951",
     "status": "completed"
    },
    "tags": []
   },
   "outputs": [
    {
     "name": "stdout",
     "output_type": "stream",
     "text": [
      "CV Score for \"Use Train Means\" = 1.4229025898413754\n"
     ]
    }
   ],
   "source": [
    "oof = pd.DataFrame(all_oof2.copy())\n",
    "oof['id'] = np.arange(len(oof))\n",
    "\n",
    "true = pd.DataFrame(all_true.copy())\n",
    "true['id'] = np.arange(len(true))\n",
    "\n",
    "cv = score(solution=true, submission=oof, row_id_column_name='id')\n",
    "print('CV Score for \"Use Train Means\" =',cv)"
   ]
  },
  {
   "cell_type": "markdown",
   "id": "06fb20c8",
   "metadata": {
    "papermill": {
     "duration": 0.025255,
     "end_time": "2024-02-14T07:20:48.110638",
     "exception": false,
     "start_time": "2024-02-14T07:20:48.085383",
     "status": "completed"
    },
    "tags": []
   },
   "source": [
    "# Infer Test and Create Submission CSV\n",
    "Below we use our 5 CatBoost fold models to infer the test data and create a `submission.csv` file."
   ]
  },
  {
   "cell_type": "code",
   "execution_count": 20,
   "id": "c92c3082",
   "metadata": {
    "execution": {
     "iopub.execute_input": "2024-02-14T07:20:48.163560Z",
     "iopub.status.busy": "2024-02-14T07:20:48.163269Z",
     "iopub.status.idle": "2024-02-14T07:20:48.239333Z",
     "shell.execute_reply": "2024-02-14T07:20:48.238395Z"
    },
    "papermill": {
     "duration": 0.10455,
     "end_time": "2024-02-14T07:20:48.241523",
     "exception": false,
     "start_time": "2024-02-14T07:20:48.136973",
     "status": "completed"
    },
    "tags": []
   },
   "outputs": [
    {
     "name": "stdout",
     "output_type": "stream",
     "text": [
      "Test shape (1, 3)\n"
     ]
    },
    {
     "data": {
      "text/html": [
       "<div>\n",
       "<style scoped>\n",
       "    .dataframe tbody tr th:only-of-type {\n",
       "        vertical-align: middle;\n",
       "    }\n",
       "\n",
       "    .dataframe tbody tr th {\n",
       "        vertical-align: top;\n",
       "    }\n",
       "\n",
       "    .dataframe thead th {\n",
       "        text-align: right;\n",
       "    }\n",
       "</style>\n",
       "<table border=\"1\" class=\"dataframe\">\n",
       "  <thead>\n",
       "    <tr style=\"text-align: right;\">\n",
       "      <th></th>\n",
       "      <th>spectrogram_id</th>\n",
       "      <th>eeg_id</th>\n",
       "      <th>patient_id</th>\n",
       "    </tr>\n",
       "  </thead>\n",
       "  <tbody>\n",
       "    <tr>\n",
       "      <th>0</th>\n",
       "      <td>853520</td>\n",
       "      <td>3911565283</td>\n",
       "      <td>6885</td>\n",
       "    </tr>\n",
       "  </tbody>\n",
       "</table>\n",
       "</div>"
      ],
      "text/plain": [
       "   spectrogram_id      eeg_id  patient_id\n",
       "0          853520  3911565283        6885"
      ]
     },
     "execution_count": 20,
     "metadata": {},
     "output_type": "execute_result"
    }
   ],
   "source": [
    "del train_, train; gc.collect()\n",
    "test = pd.read_csv('/kaggle/input/hms-harmful-brain-activity-classification/test.csv')\n",
    "print('Test shape',test.shape)\n",
    "test.head()"
   ]
  },
  {
   "cell_type": "code",
   "execution_count": 21,
   "id": "ef3aa599",
   "metadata": {
    "_kg_hide-input": true,
    "execution": {
     "iopub.execute_input": "2024-02-14T07:20:48.295949Z",
     "iopub.status.busy": "2024-02-14T07:20:48.295681Z",
     "iopub.status.idle": "2024-02-14T07:20:48.437089Z",
     "shell.execute_reply": "2024-02-14T07:20:48.436358Z"
    },
    "papermill": {
     "duration": 0.170567,
     "end_time": "2024-02-14T07:20:48.439296",
     "exception": false,
     "start_time": "2024-02-14T07:20:48.268729",
     "status": "completed"
    },
    "tags": []
   },
   "outputs": [],
   "source": [
    "import pywt, librosa\n",
    "\n",
    "USE_WAVELET = None \n",
    "\n",
    "NAMES = ['LL','LP','RP','RR']\n",
    "\n",
    "FEATS = [['Fp1','F7','T3','T5','O1'],\n",
    "         ['Fp1','F3','C3','P3','O1'],\n",
    "         ['Fp2','F8','T4','T6','O2'],\n",
    "         ['Fp2','F4','C4','P4','O2']]\n",
    "\n",
    "# DENOISE FUNCTION\n",
    "def maddest(d, axis=None):\n",
    "    return np.mean(np.absolute(d - np.mean(d, axis)), axis)\n",
    "\n",
    "def denoise(x, wavelet='haar', level=1):    \n",
    "    coeff = pywt.wavedec(x, wavelet, mode=\"per\")\n",
    "    sigma = (1/0.6745) * maddest(coeff[-level])\n",
    "\n",
    "    uthresh = sigma * np.sqrt(2*np.log(len(x)))\n",
    "    coeff[1:] = (pywt.threshold(i, value=uthresh, mode='hard') for i in coeff[1:])\n",
    "\n",
    "    ret=pywt.waverec(coeff, wavelet, mode='per')\n",
    "    \n",
    "    return ret\n",
    "\n",
    "def spectrogram_from_eeg(parquet_path, display=False):\n",
    "    \n",
    "    # LOAD MIDDLE 50 SECONDS OF EEG SERIES\n",
    "    eeg = pd.read_parquet(parquet_path)\n",
    "    middle = (len(eeg)-10_000)//2\n",
    "    eeg = eeg.iloc[middle:middle+10_000]\n",
    "    \n",
    "    # VARIABLE TO HOLD SPECTROGRAM\n",
    "    img = np.zeros((128,256,4),dtype='float32')\n",
    "    \n",
    "    if display: plt.figure(figsize=(10,7))\n",
    "    signals = []\n",
    "    for k in range(4):\n",
    "        COLS = FEATS[k]\n",
    "        \n",
    "        for kk in range(4):\n",
    "        \n",
    "            # COMPUTE PAIR DIFFERENCES\n",
    "            x = eeg[COLS[kk]].values - eeg[COLS[kk+1]].values\n",
    "\n",
    "            # FILL NANS\n",
    "            m = np.nanmean(x)\n",
    "            if np.isnan(x).mean()<1: x = np.nan_to_num(x,nan=m)\n",
    "            else: x[:] = 0\n",
    "\n",
    "            # DENOISE\n",
    "            if USE_WAVELET:\n",
    "                x = denoise(x, wavelet=USE_WAVELET)\n",
    "            signals.append(x)\n",
    "\n",
    "            # RAW SPECTROGRAM\n",
    "            mel_spec = librosa.feature.melspectrogram(y=x, sr=200, hop_length=len(x)//256, \n",
    "                  n_fft=1024, n_mels=128, fmin=0, fmax=20, win_length=128)\n",
    "\n",
    "            # LOG TRANSFORM\n",
    "            width = (mel_spec.shape[1]//32)*32\n",
    "            mel_spec_db = librosa.power_to_db(mel_spec, ref=np.max).astype(np.float32)[:,:width]\n",
    "\n",
    "            # STANDARDIZE TO -1 TO 1\n",
    "            mel_spec_db = (mel_spec_db+40)/40 \n",
    "            img[:,:,k] += mel_spec_db\n",
    "                \n",
    "        # AVERAGE THE 4 MONTAGE DIFFERENCES\n",
    "        img[:,:,k] /= 4.0\n",
    "        \n",
    "        if display:\n",
    "            plt.subplot(2,2,k+1)\n",
    "            plt.imshow(img[:,:,k],aspect='auto',origin='lower')\n",
    "            plt.title(f'EEG {eeg_id} - Spectrogram {NAMES[k]}')\n",
    "            \n",
    "    if display: \n",
    "        plt.show()\n",
    "        plt.figure(figsize=(10,5))\n",
    "        offset = 0\n",
    "        for k in range(4):\n",
    "            if k>0: offset -= signals[3-k].min()\n",
    "            plt.plot(range(10_000),signals[k]+offset,label=NAMES[3-k])\n",
    "            offset += signals[3-k].max()\n",
    "        plt.legend()\n",
    "        plt.title(f'EEG {eeg_id} Signals')\n",
    "        plt.show()\n",
    "        print(); print('#'*25); print()\n",
    "        \n",
    "    return img"
   ]
  },
  {
   "cell_type": "code",
   "execution_count": 22,
   "id": "2d3977f7",
   "metadata": {
    "execution": {
     "iopub.execute_input": "2024-02-14T07:20:48.497534Z",
     "iopub.status.busy": "2024-02-14T07:20:48.496682Z",
     "iopub.status.idle": "2024-02-14T07:20:57.592940Z",
     "shell.execute_reply": "2024-02-14T07:20:57.591591Z"
    },
    "papermill": {
     "duration": 9.13041,
     "end_time": "2024-02-14T07:20:57.596765",
     "exception": false,
     "start_time": "2024-02-14T07:20:48.466355",
     "status": "completed"
    },
    "tags": []
   },
   "outputs": [
    {
     "name": "stdout",
     "output_type": "stream",
     "text": [
      "Converting Test EEG to Spectrograms...\n",
      "\n"
     ]
    }
   ],
   "source": [
    "# CREATE ALL EEG SPECTROGRAMS\n",
    "PATH2 = '/kaggle/input/hms-harmful-brain-activity-classification/test_eegs/'\n",
    "DISPLAY = 0\n",
    "EEG_IDS2 = test.eeg_id.unique()\n",
    "all_eegs2 = {}\n",
    "\n",
    "print('Converting Test EEG to Spectrograms...'); print()\n",
    "for i,eeg_id in enumerate(EEG_IDS2):\n",
    "        \n",
    "    # CREATE SPECTROGRAM FROM EEG PARQUET\n",
    "    img = spectrogram_from_eeg(f'{PATH2}{eeg_id}.parquet', i<DISPLAY)\n",
    "    all_eegs2[eeg_id] = img"
   ]
  },
  {
   "cell_type": "code",
   "execution_count": 23,
   "id": "fb8331df",
   "metadata": {
    "execution": {
     "iopub.execute_input": "2024-02-14T07:20:57.716184Z",
     "iopub.status.busy": "2024-02-14T07:20:57.715362Z",
     "iopub.status.idle": "2024-02-14T07:21:01.009082Z",
     "shell.execute_reply": "2024-02-14T07:21:01.007925Z"
    },
    "papermill": {
     "duration": 3.354023,
     "end_time": "2024-02-14T07:21:01.011282",
     "exception": false,
     "start_time": "2024-02-14T07:20:57.657259",
     "status": "completed"
    },
    "tags": []
   },
   "outputs": [
    {
     "name": "stdout",
     "output_type": "stream",
     "text": [
      "New test shape (1, 3651)\n"
     ]
    }
   ],
   "source": [
    "# FEATURE ENGINEER TEST\n",
    "PATH2 = '/kaggle/input/hms-harmful-brain-activity-classification/test_spectrograms/'\n",
    "data = np.zeros((len(test),len(FEATURES)))\n",
    "    \n",
    "for k in range(len(test)):\n",
    "    row = test.iloc[k]\n",
    "    s = int( row.spectrogram_id )\n",
    "    spec = pd.read_parquet(f'{PATH2}{s}.parquet')\n",
    "    \n",
    "    # 10 MINUTE WINDOW FEATURES\n",
    "    x = np.nanmean( spec.iloc[:,1:].values, axis=0)\n",
    "    data[k,:400] = x\n",
    "    x = np.nanmin( spec.iloc[:,1:].values, axis=0)\n",
    "    data[k,400:800] = x\n",
    "\n",
    "    # 20 SECOND WINDOW FEATURES\n",
    "    x = np.nanmean( spec.iloc[145:155,1:].values, axis=0)\n",
    "    data[k,800:1200] = x\n",
    "    x = np.nanmin( spec.iloc[145:155,1:].values, axis=0)\n",
    "    data[k,1200:1600] = x\n",
    "    \n",
    "    # RESHAPE EEG SPECTROGRAMS 128x256x4 => 512x256\n",
    "    eeg_spec = np.zeros((512,256),dtype='float32')\n",
    "    xx = all_eegs2[row.eeg_id]\n",
    "    for j in range(4): eeg_spec[128*j:128*(j+1),] = xx[:,:,j]\n",
    "\n",
    "    # 10 SECOND WINDOW FROM EEG SPECTROGRAMS \n",
    "    x = np.nanmean(eeg_spec.T[100:-100,:],axis=0)\n",
    "    data[k,1600:2112] = x\n",
    "    x = np.nanmin(eeg_spec.T[100:-100,:],axis=0)\n",
    "    data[k,2112:2624] = x\n",
    "    x = np.nanmax(eeg_spec.T[100:-100,:],axis=0)\n",
    "    data[k,2624:3136] = x\n",
    "    x = np.nanstd(eeg_spec.T[100:-100,:],axis=0)\n",
    "    data[k,3136:3648] = x\n",
    "\n",
    "test[FEATURES] = data\n",
    "print('New test shape',test.shape)"
   ]
  },
  {
   "cell_type": "code",
   "execution_count": 24,
   "id": "b5d92731",
   "metadata": {
    "execution": {
     "iopub.execute_input": "2024-02-14T07:21:01.065647Z",
     "iopub.status.busy": "2024-02-14T07:21:01.065337Z",
     "iopub.status.idle": "2024-02-14T07:21:03.105022Z",
     "shell.execute_reply": "2024-02-14T07:21:03.103751Z"
    },
    "papermill": {
     "duration": 2.068815,
     "end_time": "2024-02-14T07:21:03.107122",
     "exception": false,
     "start_time": "2024-02-14T07:21:01.038307",
     "status": "completed"
    },
    "tags": []
   },
   "outputs": [
    {
     "name": "stdout",
     "output_type": "stream",
     "text": [
      "0 , 1 , 2 , 3 , 4 , \n",
      "Test preds shape (1, 6)\n"
     ]
    }
   ],
   "source": [
    "# INFER CATBOOST ON TEST\n",
    "preds = []\n",
    "\n",
    "for i in range(5):\n",
    "    print(i,', ',end='')\n",
    "    model = CatBoostClassifier(task_type='GPU')\n",
    "    model.load_model(f'CAT_v{VER}_f{i}.cat')\n",
    "    \n",
    "    test_pool = Pool(\n",
    "        data = test[FEATURES]\n",
    "    )\n",
    "    \n",
    "    pred = model.predict_proba(test_pool)\n",
    "    preds.append(pred)\n",
    "pred = np.mean(preds,axis=0)\n",
    "print()\n",
    "print('Test preds shape',pred.shape)"
   ]
  },
  {
   "cell_type": "code",
   "execution_count": 25,
   "id": "48ad4c19",
   "metadata": {
    "execution": {
     "iopub.execute_input": "2024-02-14T07:21:03.164319Z",
     "iopub.status.busy": "2024-02-14T07:21:03.164012Z",
     "iopub.status.idle": "2024-02-14T07:21:03.186413Z",
     "shell.execute_reply": "2024-02-14T07:21:03.185493Z"
    },
    "papermill": {
     "duration": 0.051771,
     "end_time": "2024-02-14T07:21:03.188525",
     "exception": false,
     "start_time": "2024-02-14T07:21:03.136754",
     "status": "completed"
    },
    "tags": []
   },
   "outputs": [
    {
     "name": "stdout",
     "output_type": "stream",
     "text": [
      "Submissionn shape (1, 7)\n"
     ]
    },
    {
     "data": {
      "text/html": [
       "<div>\n",
       "<style scoped>\n",
       "    .dataframe tbody tr th:only-of-type {\n",
       "        vertical-align: middle;\n",
       "    }\n",
       "\n",
       "    .dataframe tbody tr th {\n",
       "        vertical-align: top;\n",
       "    }\n",
       "\n",
       "    .dataframe thead th {\n",
       "        text-align: right;\n",
       "    }\n",
       "</style>\n",
       "<table border=\"1\" class=\"dataframe\">\n",
       "  <thead>\n",
       "    <tr style=\"text-align: right;\">\n",
       "      <th></th>\n",
       "      <th>eeg_id</th>\n",
       "      <th>seizure_vote</th>\n",
       "      <th>lpd_vote</th>\n",
       "      <th>gpd_vote</th>\n",
       "      <th>lrda_vote</th>\n",
       "      <th>grda_vote</th>\n",
       "      <th>other_vote</th>\n",
       "    </tr>\n",
       "  </thead>\n",
       "  <tbody>\n",
       "    <tr>\n",
       "      <th>0</th>\n",
       "      <td>3911565283</td>\n",
       "      <td>0.31069</td>\n",
       "      <td>0.002843</td>\n",
       "      <td>0.000081</td>\n",
       "      <td>0.069748</td>\n",
       "      <td>0.137987</td>\n",
       "      <td>0.47865</td>\n",
       "    </tr>\n",
       "  </tbody>\n",
       "</table>\n",
       "</div>"
      ],
      "text/plain": [
       "       eeg_id  seizure_vote  lpd_vote  gpd_vote  lrda_vote  grda_vote  \\\n",
       "0  3911565283       0.31069  0.002843  0.000081   0.069748   0.137987   \n",
       "\n",
       "   other_vote  \n",
       "0     0.47865  "
      ]
     },
     "execution_count": 25,
     "metadata": {},
     "output_type": "execute_result"
    }
   ],
   "source": [
    "sub = pd.DataFrame({'eeg_id':test.eeg_id.values})\n",
    "sub[TARGETS] = pred\n",
    "sub.to_csv('submission.csv',index=False)\n",
    "print('Submissionn shape',sub.shape)\n",
    "sub.head()"
   ]
  },
  {
   "cell_type": "code",
   "execution_count": 26,
   "id": "476f622f",
   "metadata": {
    "execution": {
     "iopub.execute_input": "2024-02-14T07:21:03.245163Z",
     "iopub.status.busy": "2024-02-14T07:21:03.244832Z",
     "iopub.status.idle": "2024-02-14T07:21:03.252747Z",
     "shell.execute_reply": "2024-02-14T07:21:03.251862Z"
    },
    "papermill": {
     "duration": 0.037463,
     "end_time": "2024-02-14T07:21:03.254720",
     "exception": false,
     "start_time": "2024-02-14T07:21:03.217257",
     "status": "completed"
    },
    "tags": []
   },
   "outputs": [
    {
     "data": {
      "text/plain": [
       "0    1.0\n",
       "dtype: float64"
      ]
     },
     "execution_count": 26,
     "metadata": {},
     "output_type": "execute_result"
    }
   ],
   "source": [
    "# SANITY CHECK TO CONFIRM PREDICTIONS SUM TO ONE\n",
    "sub.iloc[:,-6:].sum(axis=1)"
   ]
  }
 ],
 "metadata": {
  "kaggle": {
   "accelerator": "nvidiaTeslaT4",
   "dataSources": [
    {
     "databundleVersionId": 7469972,
     "sourceId": 59093,
     "sourceType": "competition"
    },
    {
     "datasetId": 4297749,
     "sourceId": 7392733,
     "sourceType": "datasetVersion"
    },
    {
     "datasetId": 4297782,
     "sourceId": 7392775,
     "sourceType": "datasetVersion"
    },
    {
     "datasetId": 4334995,
     "sourceId": 7447509,
     "sourceType": "datasetVersion"
    }
   ],
   "dockerImageVersionId": 30636,
   "isGpuEnabled": true,
   "isInternetEnabled": false,
   "language": "python",
   "sourceType": "notebook"
  },
  "kernelspec": {
   "display_name": "Python 3",
   "language": "python",
   "name": "python3"
  },
  "language_info": {
   "codemirror_mode": {
    "name": "ipython",
    "version": 3
   },
   "file_extension": ".py",
   "mimetype": "text/x-python",
   "name": "python",
   "nbconvert_exporter": "python",
   "pygments_lexer": "ipython3",
   "version": "3.10.12"
  },
  "papermill": {
   "default_parameters": {},
   "duration": 680.988522,
   "end_time": "2024-02-14T07:21:05.619079",
   "environment_variables": {},
   "exception": null,
   "input_path": "__notebook__.ipynb",
   "output_path": "__notebook__.ipynb",
   "parameters": {},
   "start_time": "2024-02-14T07:09:44.630557",
   "version": "2.4.0"
  }
 },
 "nbformat": 4,
 "nbformat_minor": 5
}
